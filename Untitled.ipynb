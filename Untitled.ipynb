{
 "cells": [
  {
   "cell_type": "code",
   "execution_count": 15,
   "id": "returning-poultry",
   "metadata": {},
   "outputs": [],
   "source": [
    "import pandas as pd\n",
    "import numpy as np\n",
    "import matplotlib.pyplot as plt\n",
    "def pretty(X):\n",
    "    return pd.DataFrame(X)"
   ]
  },
  {
   "cell_type": "code",
   "execution_count": 5,
   "id": "competent-indication",
   "metadata": {},
   "outputs": [],
   "source": [
    "df   = pd.read_csv(\"data1.txt\",delimiter=\"\\t\",header=None)\n",
    "w0   = np.hstack([df.iloc[:,:2],np.full((10,1),0)])\n",
    "_w0  = w0[:,:2]\n",
    "w1   = np.hstack([df.iloc[:,2:4],np.full((10,1),1)])\n",
    "_w1  = w1[:,:2]\n",
    "w2   = np.hstack([df.iloc[:,4:6],np.full((10,1),2)])\n",
    "_w2  = w2[:,:2]\n",
    "w3   = np.hstack([df.iloc[:,6:],np.full((10,1),3)])\n",
    "_w3  = w3[:,:2]\n",
    "X    = np.concatenate([w0,w1,w2,w3])\n",
    "_Xdf = pretty(X).rename(columns = {0:'x1',1:'x2',2:'class'},inplace=False)\n",
    "_Xdf['class']= _Xdf['class'].astype('int')\n",
    "_X   = X[:,:2]"
   ]
  },
  {
   "cell_type": "markdown",
   "id": "decent-swift",
   "metadata": {},
   "source": [
    "# Vector de medias"
   ]
  },
  {
   "cell_type": "code",
   "execution_count": 10,
   "id": "chemical-oakland",
   "metadata": {},
   "outputs": [],
   "source": [
    "def mean(x):\n",
    "    return x.sum(axis=0)/x.shape[0]"
   ]
  },
  {
   "cell_type": "markdown",
   "id": "overall-murray",
   "metadata": {},
   "source": [
    "## Clase w0"
   ]
  },
  {
   "cell_type": "code",
   "execution_count": 11,
   "id": "balanced-installation",
   "metadata": {},
   "outputs": [
    {
     "data": {
      "text/plain": [
       "array([2.16, 2.49])"
      ]
     },
     "execution_count": 11,
     "metadata": {},
     "output_type": "execute_result"
    }
   ],
   "source": [
    "w0_mean = mean(_w0)\n",
    "w0_mean"
   ]
  },
  {
   "cell_type": "markdown",
   "id": "cognitive-lambda",
   "metadata": {},
   "source": [
    "## Clase w1"
   ]
  },
  {
   "cell_type": "code",
   "execution_count": 12,
   "id": "compatible-consistency",
   "metadata": {},
   "outputs": [
    {
     "data": {
      "text/plain": [
       "array([ 3.95, -0.84])"
      ]
     },
     "execution_count": 12,
     "metadata": {},
     "output_type": "execute_result"
    }
   ],
   "source": [
    "w1_mean = mean(_w1)\n",
    "w1_mean"
   ]
  },
  {
   "cell_type": "markdown",
   "id": "informative-uncertainty",
   "metadata": {},
   "source": [
    "## Clase w2"
   ]
  },
  {
   "cell_type": "code",
   "execution_count": 13,
   "id": "northern-bruce",
   "metadata": {},
   "outputs": [
    {
     "data": {
      "text/plain": [
       "array([-1.57,  3.53])"
      ]
     },
     "execution_count": 13,
     "metadata": {},
     "output_type": "execute_result"
    }
   ],
   "source": [
    "w2_mean = mean(_w2)\n",
    "w2_mean"
   ]
  },
  {
   "cell_type": "markdown",
   "id": "municipal-moral",
   "metadata": {},
   "source": [
    "## Clase w3"
   ]
  },
  {
   "cell_type": "code",
   "execution_count": 14,
   "id": "choice-juice",
   "metadata": {},
   "outputs": [
    {
     "data": {
      "text/plain": [
       "array([-5.99, -4.6 ])"
      ]
     },
     "execution_count": 14,
     "metadata": {},
     "output_type": "execute_result"
    }
   ],
   "source": [
    "w3_mean = mean(_w3)\n",
    "w3_mean"
   ]
  },
  {
   "cell_type": "markdown",
   "id": "friendly-angola",
   "metadata": {},
   "source": [
    "# Matriz de covarianza"
   ]
  },
  {
   "cell_type": "code",
   "execution_count": 28,
   "id": "buried-boost",
   "metadata": {},
   "outputs": [],
   "source": [
    "def cov(x,uk):\n",
    "    ni = x.shape[0]\n",
    "    n  = x.shape[1]\n",
    "    matrix = np.zeros((n,n))\n",
    "    for i in range(n):\n",
    "        X  = x[:,i]\n",
    "        for j in range(n):\n",
    "            Y=x[:,j]\n",
    "            matrix[i][j]= ((X-uk[i])*(Y-uk[j])).sum()/(ni-1)\n",
    "    return matrix"
   ]
  },
  {
   "cell_type": "markdown",
   "id": "overhead-numbers",
   "metadata": {},
   "source": [
    "## Clase w0"
   ]
  },
  {
   "cell_type": "code",
   "execution_count": 24,
   "id": "placed-novelty",
   "metadata": {},
   "outputs": [
    {
     "data": {
      "text/plain": [
       "array([[ 9.32488889, 10.11733333],\n",
       "       [10.11733333, 11.84988889]])"
      ]
     },
     "execution_count": 24,
     "metadata": {},
     "output_type": "execute_result"
    }
   ],
   "source": [
    "cov(_w0,w0_mean)"
   ]
  },
  {
   "cell_type": "markdown",
   "id": "dominant-august",
   "metadata": {},
   "source": [
    "# Clase w1"
   ]
  },
  {
   "cell_type": "code",
   "execution_count": 25,
   "id": "exciting-segment",
   "metadata": {},
   "outputs": [
    {
     "data": {
      "text/plain": [
       "array([[ 8.36277778,  8.86777778],\n",
       "       [ 8.86777778, 13.02488889]])"
      ]
     },
     "execution_count": 25,
     "metadata": {},
     "output_type": "execute_result"
    }
   ],
   "source": [
    "cov(_w1,w1_mean)"
   ]
  },
  {
   "cell_type": "markdown",
   "id": "organizational-chinese",
   "metadata": {},
   "source": [
    "# Clase w2"
   ]
  },
  {
   "cell_type": "code",
   "execution_count": 26,
   "id": "impressive-closing",
   "metadata": {},
   "outputs": [
    {
     "data": {
      "text/plain": [
       "array([[7.63344444, 2.99344444],\n",
       "       [2.99344444, 9.78233333]])"
      ]
     },
     "execution_count": 26,
     "metadata": {},
     "output_type": "execute_result"
    }
   ],
   "source": [
    "cov(_w2,w2_mean)"
   ]
  },
  {
   "cell_type": "markdown",
   "id": "exterior-notice",
   "metadata": {},
   "source": [
    "# Clase w3"
   ]
  },
  {
   "cell_type": "code",
   "execution_count": 27,
   "id": "colonial-better",
   "metadata": {},
   "outputs": [
    {
     "data": {
      "text/plain": [
       "array([[ 8.62544444, -2.64444444],\n",
       "       [-2.64444444, 27.64444444]])"
      ]
     },
     "execution_count": 27,
     "metadata": {},
     "output_type": "execute_result"
    }
   ],
   "source": [
    "cov(_w3,w3_mean)"
   ]
  }
 ],
 "metadata": {
  "kernelspec": {
   "display_name": "Python 3",
   "language": "python",
   "name": "python3"
  },
  "language_info": {
   "codemirror_mode": {
    "name": "ipython",
    "version": 3
   },
   "file_extension": ".py",
   "mimetype": "text/x-python",
   "name": "python",
   "nbconvert_exporter": "python",
   "pygments_lexer": "ipython3",
   "version": "3.8.5"
  }
 },
 "nbformat": 4,
 "nbformat_minor": 5
}
