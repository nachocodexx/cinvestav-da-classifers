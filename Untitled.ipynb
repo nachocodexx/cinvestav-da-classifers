{
 "cells": [
  {
   "cell_type": "code",
   "execution_count": 1,
   "id": "returning-poultry",
   "metadata": {},
   "outputs": [],
   "source": [
    "import pandas as pd\n",
    "import numpy as np\n",
    "import matplotlib.pyplot as plt\n",
    "def pretty(X):\n",
    "    return pd.DataFrame(X)"
   ]
  },
  {
   "cell_type": "code",
   "execution_count": 2,
   "id": "competent-indication",
   "metadata": {},
   "outputs": [],
   "source": [
    "df   = pd.read_csv(\"data1.txt\",delimiter=\"\\t\",header=None)\n",
    "w0   = np.hstack([df.iloc[:,:2],np.full((10,1),0)])\n",
    "_w0  = w0[:,:2]\n",
    "w1   = np.hstack([df.iloc[:,2:4],np.full((10,1),1)])\n",
    "_w1  = w1[:,:2]\n",
    "w2   = np.hstack([df.iloc[:,4:6],np.full((10,1),2)])\n",
    "_w2  = w2[:,:2]\n",
    "w3   = np.hstack([df.iloc[:,6:],np.full((10,1),3)])\n",
    "_w3  = w3[:,:2]\n",
    "X    = np.concatenate([w0,w1,w2,w3])\n",
    "_Xdf = pretty(X).rename(columns = {0:'x1',1:'x2',2:'class'},inplace=False)\n",
    "_Xdf['class']= _Xdf['class'].astype('int')\n",
    "_X   = X[:,:2]"
   ]
  },
  {
   "cell_type": "code",
   "execution_count": 11,
   "id": "rotary-albert",
   "metadata": {},
   "outputs": [
    {
     "data": {
      "text/plain": [
       "<matplotlib.legend.Legend at 0x7f3450760250>"
      ]
     },
     "execution_count": 11,
     "metadata": {},
     "output_type": "execute_result"
    },
    {
     "data": {
      "image/png": "[encoded data removed]",
      "text/plain": [
       "<Figure size 432x288 with 1 Axes>"
      ]
     },
     "metadata": {
      "needs_background": "light"
     },
     "output_type": "display_data"
    }
   ],
   "source": [
    "fig,ax = plt.subplots()\n",
    "colors = [\"#F44336\",\"#536DFE\",\"#4CAF50\",\"#FF9800\"]\n",
    "data   = [_w0,_w1,_w2,_w3]\n",
    "labels = [\"w0\",\"w1\",\"w2\",\"w3\"]\n",
    "for i,v in enumerate(data):\n",
    "    ax.scatter(v[:,0],v[:,1],s=140,color=colors[i],label=labels[i])\n",
    "ax.legend()\n",
    "# ax.scatter(_w0[:,0],_w0[:,1],color=colors[0])\n",
    "# ax.scatter(_w0[:,0],_w0[:,1],color=colors[0])"
   ]
  },
  {
   "cell_type": "markdown",
   "id": "decent-swift",
   "metadata": {},
   "source": [
    "# Vector de medias"
   ]
  },
  {
   "cell_type": "code",
   "execution_count": 46,
   "id": "experienced-march",
   "metadata": {},
   "outputs": [],
   "source": [
    "def mean(x):\n",
    "    return x.sum(axis=0)/x.shape[0]"
   ]
  },
  {
   "cell_type": "markdown",
   "id": "overall-murray",
   "metadata": {},
   "source": [
    "## Clase w0"
   ]
  },
  {
   "cell_type": "code",
   "execution_count": 47,
   "id": "balanced-installation",
   "metadata": {},
   "outputs": [
    {
     "data": {
      "text/plain": [
       "array([2.16, 2.49])"
      ]
     },
     "execution_count": 47,
     "metadata": {},
     "output_type": "execute_result"
    }
   ],
   "source": [
    "w0_mean = mean(_w0)\n",
    "w0_mean"
   ]
  },
  {
   "cell_type": "markdown",
   "id": "cognitive-lambda",
   "metadata": {},
   "source": [
    "## Clase w1"
   ]
  },
  {
   "cell_type": "code",
   "execution_count": 58,
   "id": "compatible-consistency",
   "metadata": {},
   "outputs": [
    {
     "data": {
      "text/plain": [
       "array([ 3.95, -0.84])"
      ]
     },
     "execution_count": 58,
     "metadata": {},
     "output_type": "execute_result"
    }
   ],
   "source": [
    "w1_mean = mean(_w1)\n",
    "w1_mean"
   ]
  },
  {
   "cell_type": "markdown",
   "id": "informative-uncertainty",
   "metadata": {},
   "source": [
    "## Clase w2"
   ]
  },
  {
   "cell_type": "code",
   "execution_count": 59,
   "id": "northern-bruce",
   "metadata": {},
   "outputs": [
    {
     "data": {
      "text/plain": [
       "array([-1.57,  3.53])"
      ]
     },
     "execution_count": 59,
     "metadata": {},
     "output_type": "execute_result"
    }
   ],
   "source": [
    "w2_mean = mean(_w2)\n",
    "w2_mean"
   ]
  },
  {
   "cell_type": "markdown",
   "id": "municipal-moral",
   "metadata": {},
   "source": [
    "## Clase w3"
   ]
  },
  {
   "cell_type": "code",
   "execution_count": 60,
   "id": "choice-juice",
   "metadata": {},
   "outputs": [
    {
     "data": {
      "text/plain": [
       "array([-5.99, -4.6 ])"
      ]
     },
     "execution_count": 60,
     "metadata": {},
     "output_type": "execute_result"
    }
   ],
   "source": [
    "w3_mean = mean(_w3)\n",
    "w3_mean"
   ]
  },
  {
   "cell_type": "code",
   "execution_count": 69,
   "id": "bacterial-above",
   "metadata": {},
   "outputs": [
    {
     "data": {
      "text/plain": [
       "array([ 2.16,  2.49,  3.95, -0.84, -1.57,  3.53, -5.99, -4.6 ])"
      ]
     },
     "execution_count": 69,
     "metadata": {},
     "output_type": "execute_result"
    }
   ],
   "source": [
    "uk = np.array([w0_mean,w1_mean,w2_mean,w3_mean]).reshape(8,)\n",
    "uk"
   ]
  },
  {
   "cell_type": "markdown",
   "id": "friendly-angola",
   "metadata": {},
   "source": [
    "# Matriz de covarianza"
   ]
  },
  {
   "cell_type": "code",
   "execution_count": 239,
   "id": "choice-fighter",
   "metadata": {},
   "outputs": [],
   "source": [
    "def cov(x,uk):\n",
    "    ni = x.shape[0]\n",
    "    d  = x.shape[1]\n",
    "    matrix = np.zeros((d,d))\n",
    "    for i in range(d):\n",
    "        X  = x[:,i]\n",
    "        for j in range(d):\n",
    "            Y=x[:,j]\n",
    "            matrix[i][j]= ((X-uk[i])*(Y-uk[j])).sum()/(ni-1)\n",
    "    return matrix"
   ]
  },
  {
   "cell_type": "markdown",
   "id": "overhead-numbers",
   "metadata": {},
   "source": [
    "## Clase w0"
   ]
  },
  {
   "cell_type": "code",
   "execution_count": 90,
   "id": "placed-novelty",
   "metadata": {},
   "outputs": [
    {
     "data": {
      "text/plain": [
       "array([[ 9.32488889, 10.11733333],\n",
       "       [10.11733333, 11.84988889]])"
      ]
     },
     "execution_count": 90,
     "metadata": {},
     "output_type": "execute_result"
    }
   ],
   "source": [
    "w0_cov = cov(_w0,w0_mean)\n",
    "w0_cov"
   ]
  },
  {
   "cell_type": "markdown",
   "id": "motivated-better",
   "metadata": {},
   "source": [
    "# Clase w1"
   ]
  },
  {
   "cell_type": "code",
   "execution_count": 71,
   "id": "exciting-segment",
   "metadata": {},
   "outputs": [
    {
     "data": {
      "text/plain": [
       "array([[ 8.36277778,  8.86777778],\n",
       "       [ 8.86777778, 13.02488889]])"
      ]
     },
     "execution_count": 71,
     "metadata": {},
     "output_type": "execute_result"
    }
   ],
   "source": [
    "w1_cov = cov(_w1,w1_mean)\n",
    "w1_cov"
   ]
  },
  {
   "cell_type": "markdown",
   "id": "worldwide-infrastructure",
   "metadata": {},
   "source": [
    "# Clase w2"
   ]
  },
  {
   "cell_type": "code",
   "execution_count": 73,
   "id": "impressive-closing",
   "metadata": {},
   "outputs": [
    {
     "data": {
      "text/plain": [
       "array([[7.63344444, 2.99344444],\n",
       "       [2.99344444, 9.78233333]])"
      ]
     },
     "execution_count": 73,
     "metadata": {},
     "output_type": "execute_result"
    }
   ],
   "source": [
    "w2_cov = cov(_w2,w2_mean)\n",
    "w2_cov"
   ]
  },
  {
   "cell_type": "markdown",
   "id": "surgical-confirmation",
   "metadata": {},
   "source": [
    "# Clase w3"
   ]
  },
  {
   "cell_type": "code",
   "execution_count": 74,
   "id": "synthetic-jacket",
   "metadata": {},
   "outputs": [
    {
     "data": {
      "text/plain": [
       "array([[ 8.62544444, -2.64444444],\n",
       "       [-2.64444444, 27.64444444]])"
      ]
     },
     "execution_count": 74,
     "metadata": {},
     "output_type": "execute_result"
    }
   ],
   "source": [
    "w3_cov = cov(_w3,w3_mean)\n",
    "w3_cov"
   ]
  },
  {
   "cell_type": "code",
   "execution_count": 102,
   "id": "dressed-sarah",
   "metadata": {},
   "outputs": [
    {
     "data": {
      "text/plain": [
       "array([[ 9.32488889, 10.11733333, 10.11733333, 11.84988889],\n",
       "       [ 8.36277778,  8.86777778,  8.86777778, 13.02488889],\n",
       "       [ 7.63344444,  2.99344444,  2.99344444,  9.78233333],\n",
       "       [ 8.62544444, -2.64444444, -2.64444444, 27.64444444]])"
      ]
     },
     "execution_count": 102,
     "metadata": {},
     "output_type": "execute_result"
    }
   ],
   "source": [
    "varX = np.array([w0_cov,w1_cov,w2_cov,w3_cov]).reshape(4,4)\n",
    "varX"
   ]
  },
  {
   "cell_type": "markdown",
   "id": "least-nurse",
   "metadata": {},
   "source": [
    "# Probabilidad a priori"
   ]
  },
  {
   "cell_type": "code",
   "execution_count": 35,
   "id": "portuguese-sociology",
   "metadata": {},
   "outputs": [],
   "source": [
    "total = sum(list(map(lambda x:x.shape[0],data)))"
   ]
  },
  {
   "cell_type": "code",
   "execution_count": 36,
   "id": "precious-terminology",
   "metadata": {},
   "outputs": [
    {
     "data": {
      "text/plain": [
       "0.25"
      ]
     },
     "execution_count": 36,
     "metadata": {},
     "output_type": "execute_result"
    }
   ],
   "source": [
    "Pw0 = _w0.shape[0]/total\n",
    "Pw0"
   ]
  },
  {
   "cell_type": "code",
   "execution_count": 37,
   "id": "gross-northwest",
   "metadata": {},
   "outputs": [
    {
     "data": {
      "text/plain": [
       "0.25"
      ]
     },
     "execution_count": 37,
     "metadata": {},
     "output_type": "execute_result"
    }
   ],
   "source": [
    "Pw1 = _w1.shape[0]/total\n",
    "Pw1"
   ]
  },
  {
   "cell_type": "code",
   "execution_count": 38,
   "id": "indonesian-worthy",
   "metadata": {},
   "outputs": [
    {
     "data": {
      "text/plain": [
       "0.25"
      ]
     },
     "execution_count": 38,
     "metadata": {},
     "output_type": "execute_result"
    }
   ],
   "source": [
    "Pw2 = _w2.shape[0]/total\n",
    "Pw2"
   ]
  },
  {
   "cell_type": "code",
   "execution_count": 39,
   "id": "express-soundtrack",
   "metadata": {},
   "outputs": [
    {
     "data": {
      "text/plain": [
       "0.25"
      ]
     },
     "execution_count": 39,
     "metadata": {},
     "output_type": "execute_result"
    }
   ],
   "source": [
    "Pw3 = _w3.shape[0]/total\n",
    "Pw3"
   ]
  },
  {
   "cell_type": "markdown",
   "id": "deadly-piece",
   "metadata": {},
   "source": [
    "# Probabilidad posteriori"
   ]
  },
  {
   "cell_type": "code",
   "execution_count": 225,
   "id": "unsigned-metabolism",
   "metadata": {},
   "outputs": [],
   "source": [
    "def px(x,w_cov,w_mean):\n",
    "    d = x.shape[1]\n",
    "    n = x.shape[0]\n",
    "    result = []\n",
    "    denominator = 1/(np.power(np.pi,d/2) * np.power(np.linalg.det(w_cov),0.5))\n",
    "    for i in range(n):\n",
    "        xMinusMean  = (x[i,:]-w_mean)\n",
    "        xMinusMeanT = -0.5*xMinusMean.T \n",
    "        sigmaIv     = np.linalg.inv(w0_cov)\n",
    "        exp         = np.exp(xMinusMeanT@sigmaIv@xMinusMean)\n",
    "        result.append(denominator*exp)\n",
    "    return np.array(result)"
   ]
  },
  {
   "cell_type": "markdown",
   "id": "rising-hypothesis",
   "metadata": {},
   "source": [
    "# Clase w0"
   ]
  },
  {
   "cell_type": "code",
   "execution_count": 238,
   "id": "duplicate-operator",
   "metadata": {},
   "outputs": [],
   "source": [
    "w0_px = px(_w0,w0_cov,w0_mean)"
   ]
  },
  {
   "cell_type": "code",
   "execution_count": 232,
   "id": "institutional-buddy",
   "metadata": {},
   "outputs": [],
   "source": [
    "w1_px = px(_w1,w1_cov,w1_mean)"
   ]
  },
  {
   "cell_type": "code",
   "execution_count": 262,
   "id": "lyric-motel",
   "metadata": {},
   "outputs": [],
   "source": [
    "w2_px = px(_w2,w2_cov,w2_mean)"
   ]
  },
  {
   "cell_type": "code",
   "execution_count": 234,
   "id": "excess-needle",
   "metadata": {},
   "outputs": [],
   "source": [
    "w3_px = px(_w3,w3_cov,w3_mean)"
   ]
  },
  {
   "cell_type": "code",
   "execution_count": 272,
   "id": "respective-scale",
   "metadata": {},
   "outputs": [
    {
     "data": {
      "text/plain": [
       "(100, 100)"
      ]
     },
     "execution_count": 272,
     "metadata": {},
     "output_type": "execute_result"
    }
   ],
   "source": [
    "from matplotlib import cm\n",
    "\n",
    "x=np.linspace(-10,10, num=100)\n",
    "y=np.linspace(-10,10, num=100)\n",
    "\n",
    "x, y = np.meshgrid(x, y)\n",
    "z = np.exp(-0.1*x**2-0.1*y**2)\n",
    "z.shape\n",
    "\n",
    "# fig = plt.figure(figsize=(10,10))\n",
    "# ax = fig.add_subplot(111, projection='3d')\n",
    "# ax.plot_surface(x,y,z, cmap=cm.jet)\n",
    "# plt.show()"
   ]
  }
 ],
 "metadata": {
  "kernelspec": {
   "display_name": "Python 3",
   "language": "python",
   "name": "python3"
  },
  "language_info": {
   "codemirror_mode": {
    "name": "ipython",
    "version": 3
   },
   "file_extension": ".py",
   "mimetype": "text/x-python",
   "name": "python",
   "nbconvert_exporter": "python",
   "pygments_lexer": "ipython3",
   "version": "3.8.5"
  }
 },
 "nbformat": 4,
 "nbformat_minor": 5
}
