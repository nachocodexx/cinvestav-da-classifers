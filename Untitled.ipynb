{
 "cells": [
  {
   "cell_type": "code",
   "execution_count": 285,
   "id": "returning-poultry",
   "metadata": {},
   "outputs": [],
   "source": [
    "import pandas as pd\n",
    "import numpy as np\n",
    "import matplotlib.pyplot as plt\n",
    "def pretty(X):\n",
    "    return pd.DataFrame(X)\n",
    "d = 2"
   ]
  },
  {
   "cell_type": "code",
   "execution_count": 412,
   "id": "competent-indication",
   "metadata": {},
   "outputs": [],
   "source": [
    "df   = pd.read_csv(\"data1.txt\",delimiter=\"\\t\",header=None)\n",
    "c    = int(df.shape[1]/d)\n",
    "w0   = np.hstack([df.iloc[:,:2],np.full((10,1),0)])\n",
    "_w0  = w0[:,:2]\n",
    "w1   = np.hstack([df.iloc[:,2:4],np.full((10,1),1)])\n",
    "_w1  = w1[:,:2]\n",
    "w2   = np.hstack([df.iloc[:,4:6],np.full((10,1),2)])\n",
    "_w2  = w2[:,:2]\n",
    "w3   = np.hstack([df.iloc[:,6:],np.full((10,1),3)])\n",
    "_w3  = w3[:,:2]\n",
    "X    = np.concatenate([w0,w1,w2,w3])\n",
    "_Xdf = pretty(X).rename(columns = {0:'x1',1:'x2',2:'class'},inplace=False)\n",
    "_Xdf['class']= _Xdf['class'].astype('int')\n",
    "_X   = X[:,:2].T\n",
    "# _w0"
   ]
  },
  {
   "cell_type": "code",
   "execution_count": 394,
   "id": "rotary-albert",
   "metadata": {},
   "outputs": [
    {
     "data": {
      "text/plain": [
       "<matplotlib.legend.Legend at 0x7f344f218f70>"
      ]
     },
     "execution_count": 394,
     "metadata": {},
     "output_type": "execute_result"
    },
    {
     "data": {
      "image/png": "[encoded data removed]",
      "text/plain": [
       "<Figure size 432x288 with 1 Axes>"
      ]
     },
     "metadata": {
      "needs_background": "light"
     },
     "output_type": "display_data"
    }
   ],
   "source": [
    "fig,ax = plt.subplots()\n",
    "colors = [\"#F44336\",\"#536DFE\",\"#4CAF50\",\"#FF9800\"]\n",
    "data   = [_w0,_w1,_w2,_w3]\n",
    "labels = [\"w0\",\"w1\",\"w2\",\"w3\"]\n",
    "for i,v in enumerate(data):\n",
    "    ax.scatter(v[:,0],v[:,1],s=140,color=colors[i],label=labels[i])\n",
    "ax.legend()\n",
    "# ax.scatter(_w0[:,0],_w0[:,1],color=colors[0])\n",
    "# ax.scatter(_w0[:,0],_w0[:,1],color=colors[0])"
   ]
  },
  {
   "cell_type": "markdown",
   "id": "agreed-essence",
   "metadata": {},
   "source": [
    "# Practica #1:  Riesgo condicional"
   ]
  },
  {
   "cell_type": "markdown",
   "id": "adolescent-algeria",
   "metadata": {},
   "source": [
    "a) Implemente el c´alculo del vector de medias, matriz de covarianza y probabilidad a priori definidas en\n",
    "las Ecuaciones 32–34 de la clase AD-03. No se permite el uso de funciones predefinidas en bibliotecas o\n",
    "toolboxes."
   ]
  },
  {
   "cell_type": "markdown",
   "id": "decent-swift",
   "metadata": {},
   "source": [
    "## Vector de medias"
   ]
  },
  {
   "cell_type": "code",
   "execution_count": 645,
   "id": "experienced-march",
   "metadata": {},
   "outputs": [],
   "source": [
    "def mean(x):\n",
    "    return x.sum(axis=0)/x.shape[0]"
   ]
  },
  {
   "cell_type": "markdown",
   "id": "overall-murray",
   "metadata": {},
   "source": [
    "Vector de medias para la clase $\\omega_1$"
   ]
  },
  {
   "cell_type": "code",
   "execution_count": 646,
   "id": "balanced-installation",
   "metadata": {},
   "outputs": [
    {
     "data": {
      "text/plain": [
       "array([2.16, 2.49])"
      ]
     },
     "execution_count": 646,
     "metadata": {},
     "output_type": "execute_result"
    }
   ],
   "source": [
    "w0_mean = mean(_w0)\n",
    "w0_mean"
   ]
  },
  {
   "cell_type": "markdown",
   "id": "cognitive-lambda",
   "metadata": {},
   "source": [
    "Vector de medias para la clase $\\omega_2$"
   ]
  },
  {
   "cell_type": "code",
   "execution_count": 647,
   "id": "compatible-consistency",
   "metadata": {},
   "outputs": [
    {
     "data": {
      "text/plain": [
       "array([ 3.95, -0.84])"
      ]
     },
     "execution_count": 647,
     "metadata": {},
     "output_type": "execute_result"
    }
   ],
   "source": [
    "w1_mean = mean(_w1)\n",
    "w1_mean"
   ]
  },
  {
   "cell_type": "markdown",
   "id": "informative-uncertainty",
   "metadata": {},
   "source": [
    "Vector de medias para la clase $\\omega_3$"
   ]
  },
  {
   "cell_type": "code",
   "execution_count": 650,
   "id": "northern-bruce",
   "metadata": {},
   "outputs": [
    {
     "data": {
      "text/plain": [
       "array([-1.57,  3.53])"
      ]
     },
     "execution_count": 650,
     "metadata": {},
     "output_type": "execute_result"
    }
   ],
   "source": [
    "w2_mean = mean(_w2)\n",
    "w2_mean"
   ]
  },
  {
   "cell_type": "markdown",
   "id": "municipal-moral",
   "metadata": {},
   "source": [
    "Vector de medias para la clase $\\omega_4$"
   ]
  },
  {
   "cell_type": "code",
   "execution_count": 649,
   "id": "choice-juice",
   "metadata": {},
   "outputs": [
    {
     "data": {
      "text/plain": [
       "array([-5.99, -4.6 ])"
      ]
     },
     "execution_count": 649,
     "metadata": {},
     "output_type": "execute_result"
    }
   ],
   "source": [
    "w3_mean = mean(_w3)\n",
    "w3_mean"
   ]
  },
  {
   "cell_type": "code",
   "execution_count": 651,
   "id": "certain-judges",
   "metadata": {},
   "outputs": [
    {
     "data": {
      "text/plain": [
       "array([ 2.16,  2.49,  3.95, -0.84, -1.57,  3.53, -5.99, -4.6 ])"
      ]
     },
     "execution_count": 651,
     "metadata": {},
     "output_type": "execute_result"
    }
   ],
   "source": [
    "uk = np.array([w0_mean,w1_mean,w2_mean,w3_mean]).reshape(8,)\n",
    "uk"
   ]
  },
  {
   "cell_type": "markdown",
   "id": "friendly-angola",
   "metadata": {},
   "source": [
    "# Matriz de covarianza"
   ]
  },
  {
   "cell_type": "code",
   "execution_count": 652,
   "id": "choice-fighter",
   "metadata": {},
   "outputs": [],
   "source": [
    "def cov(x,uk):\n",
    "    ni = x.shape[0]\n",
    "    d  = x.shape[1]\n",
    "    matrix = np.zeros((d,d))\n",
    "    for i in range(d):\n",
    "        X  = x[:,i]\n",
    "        for j in range(d):\n",
    "            Y=x[:,j]\n",
    "            matrix[i][j]= ((X-uk[i])*(Y-uk[j])).sum()/(ni-1)\n",
    "    return matrix"
   ]
  },
  {
   "cell_type": "markdown",
   "id": "overhead-numbers",
   "metadata": {},
   "source": [
    "Matriz de covarianza para la clase $\\omega_1$"
   ]
  },
  {
   "cell_type": "code",
   "execution_count": 674,
   "id": "placed-novelty",
   "metadata": {},
   "outputs": [
    {
     "data": {
      "text/plain": [
       "array([[ 9.32488889, 10.11733333],\n",
       "       [10.11733333, 11.84988889]])"
      ]
     },
     "execution_count": 674,
     "metadata": {},
     "output_type": "execute_result"
    }
   ],
   "source": [
    "w0_cov = cov(_w0,w0_mean)\n",
    "w0_cov"
   ]
  },
  {
   "cell_type": "markdown",
   "id": "motivated-better",
   "metadata": {},
   "source": [
    "Vector de medias para la clase $\\omega_2$"
   ]
  },
  {
   "cell_type": "code",
   "execution_count": 673,
   "id": "exciting-segment",
   "metadata": {},
   "outputs": [
    {
     "data": {
      "text/plain": [
       "array([[ 8.36277778,  8.86777778],\n",
       "       [ 8.86777778, 13.02488889]])"
      ]
     },
     "execution_count": 673,
     "metadata": {},
     "output_type": "execute_result"
    }
   ],
   "source": [
    "w1_cov = cov(_w1,w1_mean)\n",
    "w1_cov"
   ]
  },
  {
   "cell_type": "markdown",
   "id": "worldwide-infrastructure",
   "metadata": {},
   "source": [
    "Vector de medias para la clase $\\omega_3$"
   ]
  },
  {
   "cell_type": "code",
   "execution_count": 672,
   "id": "impressive-closing",
   "metadata": {},
   "outputs": [
    {
     "data": {
      "text/plain": [
       "array([[7.63344444, 2.99344444],\n",
       "       [2.99344444, 9.78233333]])"
      ]
     },
     "execution_count": 672,
     "metadata": {},
     "output_type": "execute_result"
    }
   ],
   "source": [
    "w2_cov = cov(_w2,w2_mean)\n",
    "w2_cov"
   ]
  },
  {
   "cell_type": "markdown",
   "id": "surgical-confirmation",
   "metadata": {},
   "source": [
    "Vector de medias para la clase $\\omega_4$"
   ]
  },
  {
   "cell_type": "code",
   "execution_count": 671,
   "id": "synthetic-jacket",
   "metadata": {},
   "outputs": [
    {
     "data": {
      "text/plain": [
       "array([[ 8.62544444, -2.64444444],\n",
       "       [-2.64444444, 27.64444444]])"
      ]
     },
     "execution_count": 671,
     "metadata": {},
     "output_type": "execute_result"
    }
   ],
   "source": [
    "w3_cov = cov(_w3,w3_mean)\n",
    "w3_cov"
   ]
  },
  {
   "cell_type": "code",
   "execution_count": 392,
   "id": "polar-chemical",
   "metadata": {},
   "outputs": [
    {
     "data": {
      "text/plain": [
       "array([[ 9.32488889, 10.11733333, 10.11733333, 11.84988889],\n",
       "       [ 8.36277778,  8.86777778,  8.86777778, 13.02488889],\n",
       "       [ 7.63344444,  2.99344444,  2.99344444,  9.78233333],\n",
       "       [ 8.62544444, -2.64444444, -2.64444444, 27.64444444]])"
      ]
     },
     "execution_count": 392,
     "metadata": {},
     "output_type": "execute_result"
    }
   ],
   "source": [
    "varX = np.array([w0_cov,w1_cov,w2_cov,w3_cov]).reshape(4,4)\n",
    "varX"
   ]
  },
  {
   "cell_type": "markdown",
   "id": "excessive-palmer",
   "metadata": {},
   "source": [
    "b) Use las funciones en el inciso (a) para calcular las probabilidades posteriores de cada muestra en la\n",
    "Tabla 1, implementado la Ecuaci´on 1 de la clase AD-03. La funci´on de verosimilitud est´a dada por la\n",
    "funci´on de densidad Gaussiana multivariante (Ecuaci´on 10 de la clase AD-03)."
   ]
  },
  {
   "cell_type": "markdown",
   "id": "documentary-quick",
   "metadata": {},
   "source": [
    "# Probabilidad a priori"
   ]
  },
  {
   "cell_type": "code",
   "execution_count": 421,
   "id": "specified-defendant",
   "metadata": {},
   "outputs": [],
   "source": [
    "total = sum(list(map(lambda x:x.shape[0],data)))"
   ]
  },
  {
   "cell_type": "markdown",
   "id": "furnished-plaintiff",
   "metadata": {},
   "source": [
    "Probabilidad a priori de la clase $\\omega_1$"
   ]
  },
  {
   "cell_type": "code",
   "execution_count": 422,
   "id": "effective-surname",
   "metadata": {},
   "outputs": [
    {
     "data": {
      "text/plain": [
       "0.25"
      ]
     },
     "execution_count": 422,
     "metadata": {},
     "output_type": "execute_result"
    }
   ],
   "source": [
    "Pw0 = _w0.shape[0]/total\n",
    "Pw0"
   ]
  },
  {
   "cell_type": "markdown",
   "id": "breathing-bosnia",
   "metadata": {},
   "source": [
    "Probabilidad a priori de la clase $\\omega_2$"
   ]
  },
  {
   "cell_type": "code",
   "execution_count": 37,
   "id": "ignored-penguin",
   "metadata": {},
   "outputs": [
    {
     "data": {
      "text/plain": [
       "0.25"
      ]
     },
     "execution_count": 37,
     "metadata": {},
     "output_type": "execute_result"
    }
   ],
   "source": [
    "Pw1 = _w1.shape[0]/total\n",
    "Pw1"
   ]
  },
  {
   "cell_type": "markdown",
   "id": "through-thirty",
   "metadata": {},
   "source": [
    "Probabilidad a priori de la clase $\\omega_3$"
   ]
  },
  {
   "cell_type": "code",
   "execution_count": 38,
   "id": "judicial-terrain",
   "metadata": {},
   "outputs": [
    {
     "data": {
      "text/plain": [
       "0.25"
      ]
     },
     "execution_count": 38,
     "metadata": {},
     "output_type": "execute_result"
    }
   ],
   "source": [
    "Pw2 = _w2.shape[0]/total\n",
    "Pw2"
   ]
  },
  {
   "cell_type": "markdown",
   "id": "major-prison",
   "metadata": {},
   "source": [
    "Probabilidad a priori de la clase $\\omega_4$"
   ]
  },
  {
   "cell_type": "code",
   "execution_count": 39,
   "id": "general-refrigerator",
   "metadata": {},
   "outputs": [
    {
     "data": {
      "text/plain": [
       "0.25"
      ]
     },
     "execution_count": 39,
     "metadata": {},
     "output_type": "execute_result"
    }
   ],
   "source": [
    "Pw3 = _w3.shape[0]/total\n",
    "Pw3"
   ]
  },
  {
   "cell_type": "code",
   "execution_count": 425,
   "id": "swiss-shower",
   "metadata": {},
   "outputs": [
    {
     "data": {
      "text/plain": [
       "array([0.25, 0.25, 0.25, 0.25])"
      ]
     },
     "execution_count": 425,
     "metadata": {},
     "output_type": "execute_result"
    }
   ],
   "source": [
    "Pwi = np.array([Pw0,Pw1,Pw2,Pw3])\n",
    "Pwi"
   ]
  },
  {
   "cell_type": "markdown",
   "id": "annoying-empty",
   "metadata": {},
   "source": [
    "# Probabilidad posteriori"
   ]
  },
  {
   "cell_type": "code",
   "execution_count": 426,
   "id": "variable-newspaper",
   "metadata": {},
   "outputs": [],
   "source": [
    "def px(x,w_cov,w_mean):\n",
    "    d = x.shape[1]\n",
    "    n = x.shape[0]\n",
    "    result = []\n",
    "    denominator = 1/(np.power(2*np.pi,d/2) * np.power(np.linalg.det(w_cov),0.5))\n",
    "    for i in range(n):\n",
    "        xMinusMean  = (x[i,:]-w_mean)\n",
    "        xMinusMeanT = -0.5*xMinusMean.T \n",
    "        sigmaIv     = np.linalg.inv(w0_cov)\n",
    "        exp         = np.exp(xMinusMeanT@sigmaIv@xMinusMean)\n",
    "        result.append(denominator*exp)\n",
    "    return np.array(result)"
   ]
  },
  {
   "cell_type": "markdown",
   "id": "public-honey",
   "metadata": {},
   "source": [
    "Probabilidad posteriori $\\omega_1$"
   ]
  },
  {
   "cell_type": "code",
   "execution_count": 670,
   "id": "recognized-prize",
   "metadata": {},
   "outputs": [
    {
     "data": {
      "text/plain": [
       "array([0.02951557, 0.01586343, 0.00892033, 0.05120852, 0.00720076,\n",
       "       0.01491139, 0.02879169, 0.05106233, 0.02442769, 0.04370393])"
      ]
     },
     "execution_count": 670,
     "metadata": {},
     "output_type": "execute_result"
    }
   ],
   "source": [
    "w0_px = px(_w0,w0_cov,w0_mean)\n",
    "w0_px"
   ]
  },
  {
   "cell_type": "markdown",
   "id": "challenging-founder",
   "metadata": {},
   "source": [
    "Probabilidad posteriori $\\omega_2$"
   ]
  },
  {
   "cell_type": "code",
   "execution_count": 438,
   "id": "underlying-falls",
   "metadata": {},
   "outputs": [
    {
     "data": {
      "text/plain": [
       "array([3.76105539e-03, 2.67238133e-04, 2.75059315e-02, 2.13598190e-02,\n",
       "       8.77700846e-04, 1.85616712e-02, 7.27002832e-03, 1.07256353e-05,\n",
       "       9.53663300e-03, 7.65165769e-03])"
      ]
     },
     "execution_count": 438,
     "metadata": {},
     "output_type": "execute_result"
    }
   ],
   "source": [
    "w1_px = px(_w1,w1_cov,w1_mean)\n",
    "w1_px"
   ]
  },
  {
   "cell_type": "markdown",
   "id": "quantitative-respect",
   "metadata": {},
   "source": [
    "Probabilidad posteriori $\\omega_3$"
   ]
  },
  {
   "cell_type": "code",
   "execution_count": 669,
   "id": "developmental-jimmy",
   "metadata": {},
   "outputs": [
    {
     "data": {
      "text/plain": [
       "array([2.10855046e-08, 1.16379816e-04, 1.03687520e-12, 1.74290707e-02,\n",
       "       5.38015583e-03, 1.93882575e-02, 6.64504240e-08, 2.77054397e-04,\n",
       "       1.27249874e-03, 6.51610111e-04])"
      ]
     },
     "execution_count": 669,
     "metadata": {},
     "output_type": "execute_result"
    }
   ],
   "source": [
    "w2_px = px(_w2,w2_cov,w2_mean)\n",
    "w2_px"
   ]
  },
  {
   "cell_type": "markdown",
   "id": "subjective-opening",
   "metadata": {},
   "source": [
    "Probabilidad posteriori $\\omega_4$"
   ]
  },
  {
   "cell_type": "code",
   "execution_count": 668,
   "id": "selective-nelson",
   "metadata": {},
   "outputs": [
    {
     "data": {
      "text/plain": [
       "array([1.61246318e-19, 1.17096965e-18, 1.78634593e-29, 4.39361803e-07,\n",
       "       3.47249970e-03, 3.89884490e-31, 9.76185134e-05, 3.35006740e-03,\n",
       "       1.64059707e-06, 7.37886216e-03])"
      ]
     },
     "execution_count": 668,
     "metadata": {},
     "output_type": "execute_result"
    }
   ],
   "source": [
    "w3_px = px(_w3,w3_cov,w3_mean)\n",
    "w3_px"
   ]
  },
  {
   "cell_type": "code",
   "execution_count": 727,
   "id": "english-landscape",
   "metadata": {},
   "outputs": [],
   "source": [
    "PxWi = np.array([w0_px,w1_px,w2_px,w3_px])"
   ]
  },
  {
   "cell_type": "code",
   "execution_count": 675,
   "id": "presidential-palace",
   "metadata": {},
   "outputs": [
    {
     "data": {
      "text/plain": [
       "array([0.88697549, 0.97638846, 0.2448874 , 0.56899716, 0.42529738,\n",
       "       0.28208515, 0.79624348, 0.93349478, 0.69321102, 0.73592912])"
      ]
     },
     "execution_count": 675,
     "metadata": {},
     "output_type": "execute_result"
    }
   ],
   "source": [
    "from functools  import reduce\n",
    "def gix(i):\n",
    "    numerator   = PxWi[i]*Pwi[i]\n",
    "    result =[] \n",
    "    for j in range(c):\n",
    "        res = PxWi[j]*Pwi[j]\n",
    "        result.append(res)\n",
    "    denominator = sum(result)\n",
    "    return numerator/denominator\n",
    "        \n",
    "gix(0) "
   ]
  },
  {
   "cell_type": "markdown",
   "id": "cutting-device",
   "metadata": {},
   "source": [
    "c) Calcule el riesgo condicional de las muestras de entrenamiento (Ecuaci´on 19 de la clase AD-02)."
   ]
  },
  {
   "cell_type": "markdown",
   "id": "mechanical-crack",
   "metadata": {},
   "source": [
    "#  Riesgo condicional"
   ]
  },
  {
   "cell_type": "code",
   "execution_count": 676,
   "id": "designing-forest",
   "metadata": {},
   "outputs": [
    {
     "data": {
      "text/plain": [
       "array([2.66092648, 2.92916537, 0.73466221, 1.70699149, 1.27589213,\n",
       "       0.84625545, 2.38873044, 2.80048433, 2.07963306, 2.20778735])"
      ]
     },
     "execution_count": 676,
     "metadata": {},
     "output_type": "execute_result"
    }
   ],
   "source": [
    "def fps(i,j):\n",
    "    return 0 if(i==j) else 1\n",
    "\n",
    "def rc(i):\n",
    "    result =[]\n",
    "    for j in range(c):\n",
    "        fpsRes = fps(i,j)\n",
    "        result.append(fpsRes*gix(i))\n",
    "    return sum(result)\n",
    "rc(0)"
   ]
  },
  {
   "cell_type": "markdown",
   "id": "architectural-intake",
   "metadata": {},
   "source": [
    "# Práctica #2"
   ]
  },
  {
   "cell_type": "markdown",
   "id": "european-berlin",
   "metadata": {},
   "source": [
    "a) Use las funciones en el inciso (a) de la Pr´actica #1 para entrenar un clasificador basado en funciones\n",
    "discriminantes Gaussianas cuadr´aticas (Ecuaci´on 26 de la clase AD-03)"
   ]
  },
  {
   "cell_type": "code",
   "execution_count": 677,
   "id": "signal-victoria",
   "metadata": {},
   "outputs": [],
   "source": [
    "def _gix(x,w_cov,ui):\n",
    "    sigmaIv = np.linalg.inv(w_cov)\n",
    "    Wi      = -0.5 * sigmaIv\n",
    "    wi      = sigmaIv@ui\n",
    "    w0i     =0.5*ui.T@sigmaIv@ui*(-0.5*np.log(np.linalg.det(w_cov))+np.log(Pwi[0]))\n",
    "    result = []\n",
    "    for i in range(x.shape[0]):\n",
    "        xT  = x[i].T\n",
    "        res = xT@Wi@x[i] + wi.T@x[i]+w0i\n",
    "        result.append(res)\n",
    "    return result"
   ]
  },
  {
   "cell_type": "code",
   "execution_count": 680,
   "id": "productive-marketplace",
   "metadata": {},
   "outputs": [
    {
     "data": {
      "image/png": "[encoded data removed]",
      "text/plain": [
       "<Figure size 432x288 with 1 Axes>"
      ]
     },
     "metadata": {
      "needs_background": "light"
     },
     "output_type": "display_data"
    }
   ],
   "source": [
    "res = _gix(_w0,w0_cov,w0_mean)\n",
    "# print(res)\n",
    "fig,ax = plt.subplots()\n",
    "ax.set_xticks(np.arange(-10,10,1))\n",
    "ax.set_yticks(np.arange(-10,10,1))\n",
    "# colors = [\"#F44336\",\"#536DFE\",\"#4CAF50\",\"#FF9800\"]\n",
    "colors = [\"#000\",\"#000\",\"#000\",\"#000\"]\n",
    "# data   = [_w0,_w1,_w2,_w3]\n",
    "data   = [_w0]\n",
    "labels = [\"w0\",\"w1\",\"w2\",\"w3\"]\n",
    "for i,v in enumerate(data):\n",
    "    ax.scatter(v[:,0],v[:,1],s=140,color=colors[i],label=labels[i])\n",
    "# ax.contour(_w0[:,0],res)\n",
    "# ax.legend()"
   ]
  },
  {
   "cell_type": "markdown",
   "id": "standing-tuition",
   "metadata": {},
   "source": [
    "# Practica #3"
   ]
  },
  {
   "cell_type": "markdown",
   "id": "collected-shark",
   "metadata": {},
   "source": [
    "a) A partir de los datos en la Tabla 1, use las funciones en el inciso (a) de la Practica #1 para entrenar un clasificador de mınima distancia Euclidiana y un clasificador de mınima distancia Mahalanobis\n",
    "(Ecuaciones 18 y 23 de la clase AD-03)."
   ]
  },
  {
   "cell_type": "code",
   "execution_count": 726,
   "id": "impressed-bicycle",
   "metadata": {},
   "outputs": [],
   "source": [
    "def cMinEucli(x):\n",
    "    xMean      = mean(x)\n",
    "    xMinusMean = x-xMean\n",
    "    result = []\n",
    "    for i in range(x.shape[0]):\n",
    "        xMinusMean = x[i]-xMean\n",
    "        res =np.sqrt(xMinusMean.T@xMinusMean)\n",
    "        result.append(res)\n",
    "    return result\n",
    "def cMinMaha(x):\n",
    "    xMean      = mean(x)\n",
    "    xCov       = cov(x,xMean)\n",
    "    sigmaInv   = np.linalg.inv(xCov)\n",
    "    result = []\n",
    "    for i in range(x.shape[0]):\n",
    "        xMinusMean = x[i]-xMean\n",
    "        res = np.sqrt(xMinusMean.T@sigmaInv@xMinusMean)\n",
    "        result.append(res)\n",
    "    return result"
   ]
  },
  {
   "cell_type": "markdown",
   "id": "circular-internship",
   "metadata": {},
   "source": [
    "b) Clasifique los siguientes patrones de prueba: $\\mathbf{x_1} = [-1.7,-2.6]^T$, $\\mathbf{x_2}=[0.3,-7.6]^T,\\mathbf{x_3}=[-7.3,5.0]^T y \\quad \\mathbf{x_4}=[5.6,2.8]^T$, usando los dos clasificadores implementados en el inciso anterior, as´ı como el clasificador\n",
    "cuadratico implementado en la Practica #2."
   ]
  },
  {
   "cell_type": "code",
   "execution_count": null,
   "id": "collaborative-muscle",
   "metadata": {},
   "outputs": [],
   "source": []
  }
 ],
 "metadata": {
  "kernelspec": {
   "display_name": "Python 3",
   "language": "python",
   "name": "python3"
  },
  "language_info": {
   "codemirror_mode": {
    "name": "ipython",
    "version": 3
   },
   "file_extension": ".py",
   "mimetype": "text/x-python",
   "name": "python",
   "nbconvert_exporter": "python",
   "pygments_lexer": "ipython3",
   "version": "3.8.5"
  }
 },
 "nbformat": 4,
 "nbformat_minor": 5
}
