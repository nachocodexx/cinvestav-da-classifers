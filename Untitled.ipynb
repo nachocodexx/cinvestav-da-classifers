{
 "cells": [
  {
   "cell_type": "code",
   "execution_count": 525,
   "id": "returning-poultry",
   "metadata": {},
   "outputs": [],
   "source": [
    "import pandas as pd\n",
    "import numpy as np\n",
    "import matplotlib.pyplot as plt\n",
    "# from matplotlib  import cmap\n",
    "def pretty(X):\n",
    "    return pd.DataFrame(X)\n",
    "d = 2"
   ]
  },
  {
   "cell_type": "code",
   "execution_count": 526,
   "id": "competent-indication",
   "metadata": {},
   "outputs": [
    {
     "data": {
      "text/html": [
       "<div>\n",
       "<style scoped>\n",
       "    .dataframe tbody tr th:only-of-type {\n",
       "        vertical-align: middle;\n",
       "    }\n",
       "\n",
       "    .dataframe tbody tr th {\n",
       "        vertical-align: top;\n",
       "    }\n",
       "\n",
       "    .dataframe thead th {\n",
       "        text-align: right;\n",
       "    }\n",
       "</style>\n",
       "<table border=\"1\" class=\"dataframe\">\n",
       "  <thead>\n",
       "    <tr style=\"text-align: right;\">\n",
       "      <th></th>\n",
       "      <th>0</th>\n",
       "      <th>1</th>\n",
       "      <th>2</th>\n",
       "      <th>3</th>\n",
       "      <th>4</th>\n",
       "      <th>5</th>\n",
       "      <th>6</th>\n",
       "      <th>7</th>\n",
       "    </tr>\n",
       "  </thead>\n",
       "  <tbody>\n",
       "    <tr>\n",
       "      <th>0</th>\n",
       "      <td>0.1</td>\n",
       "      <td>1.1</td>\n",
       "      <td>7.1</td>\n",
       "      <td>4.2</td>\n",
       "      <td>-3.0</td>\n",
       "      <td>-2.9</td>\n",
       "      <td>-2.0</td>\n",
       "      <td>-8.4</td>\n",
       "    </tr>\n",
       "    <tr>\n",
       "      <th>1</th>\n",
       "      <td>6.8</td>\n",
       "      <td>7.1</td>\n",
       "      <td>-1.4</td>\n",
       "      <td>-4.3</td>\n",
       "      <td>0.5</td>\n",
       "      <td>8.7</td>\n",
       "      <td>-8.9</td>\n",
       "      <td>0.2</td>\n",
       "    </tr>\n",
       "    <tr>\n",
       "      <th>2</th>\n",
       "      <td>-3.5</td>\n",
       "      <td>-4.1</td>\n",
       "      <td>4.5</td>\n",
       "      <td>0.0</td>\n",
       "      <td>2.9</td>\n",
       "      <td>2.1</td>\n",
       "      <td>-4.2</td>\n",
       "      <td>7.7</td>\n",
       "    </tr>\n",
       "    <tr>\n",
       "      <th>3</th>\n",
       "      <td>2.0</td>\n",
       "      <td>2.7</td>\n",
       "      <td>6.3</td>\n",
       "      <td>1.6</td>\n",
       "      <td>-0.1</td>\n",
       "      <td>5.2</td>\n",
       "      <td>-8.5</td>\n",
       "      <td>-3.2</td>\n",
       "    </tr>\n",
       "    <tr>\n",
       "      <th>4</th>\n",
       "      <td>4.1</td>\n",
       "      <td>2.8</td>\n",
       "      <td>4.2</td>\n",
       "      <td>1.9</td>\n",
       "      <td>-4.0</td>\n",
       "      <td>2.2</td>\n",
       "      <td>-6.7</td>\n",
       "      <td>-4.0</td>\n",
       "    </tr>\n",
       "    <tr>\n",
       "      <th>5</th>\n",
       "      <td>3.1</td>\n",
       "      <td>5.0</td>\n",
       "      <td>1.4</td>\n",
       "      <td>-3.2</td>\n",
       "      <td>-1.3</td>\n",
       "      <td>3.7</td>\n",
       "      <td>-0.5</td>\n",
       "      <td>-9.2</td>\n",
       "    </tr>\n",
       "    <tr>\n",
       "      <th>6</th>\n",
       "      <td>-0.8</td>\n",
       "      <td>-1.3</td>\n",
       "      <td>2.4</td>\n",
       "      <td>-4.0</td>\n",
       "      <td>-3.4</td>\n",
       "      <td>6.2</td>\n",
       "      <td>-5.3</td>\n",
       "      <td>-6.7</td>\n",
       "    </tr>\n",
       "    <tr>\n",
       "      <th>7</th>\n",
       "      <td>0.9</td>\n",
       "      <td>1.2</td>\n",
       "      <td>2.5</td>\n",
       "      <td>-6.1</td>\n",
       "      <td>-4.1</td>\n",
       "      <td>3.4</td>\n",
       "      <td>-8.7</td>\n",
       "      <td>-6.4</td>\n",
       "    </tr>\n",
       "    <tr>\n",
       "      <th>8</th>\n",
       "      <td>5.0</td>\n",
       "      <td>6.4</td>\n",
       "      <td>8.4</td>\n",
       "      <td>3.7</td>\n",
       "      <td>-5.1</td>\n",
       "      <td>1.6</td>\n",
       "      <td>-7.1</td>\n",
       "      <td>-9.7</td>\n",
       "    </tr>\n",
       "    <tr>\n",
       "      <th>9</th>\n",
       "      <td>3.9</td>\n",
       "      <td>4.0</td>\n",
       "      <td>4.1</td>\n",
       "      <td>-2.2</td>\n",
       "      <td>1.9</td>\n",
       "      <td>5.1</td>\n",
       "      <td>-8.0</td>\n",
       "      <td>-6.3</td>\n",
       "    </tr>\n",
       "  </tbody>\n",
       "</table>\n",
       "</div>"
      ],
      "text/plain": [
       "     0    1    2    3    4    5    6    7\n",
       "0  0.1  1.1  7.1  4.2 -3.0 -2.9 -2.0 -8.4\n",
       "1  6.8  7.1 -1.4 -4.3  0.5  8.7 -8.9  0.2\n",
       "2 -3.5 -4.1  4.5  0.0  2.9  2.1 -4.2  7.7\n",
       "3  2.0  2.7  6.3  1.6 -0.1  5.2 -8.5 -3.2\n",
       "4  4.1  2.8  4.2  1.9 -4.0  2.2 -6.7 -4.0\n",
       "5  3.1  5.0  1.4 -3.2 -1.3  3.7 -0.5 -9.2\n",
       "6 -0.8 -1.3  2.4 -4.0 -3.4  6.2 -5.3 -6.7\n",
       "7  0.9  1.2  2.5 -6.1 -4.1  3.4 -8.7 -6.4\n",
       "8  5.0  6.4  8.4  3.7 -5.1  1.6 -7.1 -9.7\n",
       "9  3.9  4.0  4.1 -2.2  1.9  5.1 -8.0 -6.3"
      ]
     },
     "execution_count": 526,
     "metadata": {},
     "output_type": "execute_result"
    }
   ],
   "source": [
    "df   = pd.read_csv(\"data1.txt\",delimiter=\"\\t\",header=None)\n",
    "c    = int(df.shape[1]/d)\n",
    "w0   = np.hstack([df.iloc[:,:2],np.full((10,1),0)])\n",
    "_w0  = w0[:,:2]\n",
    "w1   = np.hstack([df.iloc[:,2:4],np.full((10,1),1)])\n",
    "_w1  = w1[:,:2]\n",
    "w2   = np.hstack([df.iloc[:,4:6],np.full((10,1),2)])\n",
    "_w2  = w2[:,:2]\n",
    "w3   = np.hstack([df.iloc[:,6:],np.full((10,1),3)])\n",
    "_w3  = w3[:,:2]\n",
    "X    = np.concatenate([w0,w1,w2,w3])\n",
    "_Xdf = pretty(X).rename(columns = {0:'x1',1:'x2',2:'class'},inplace=False)\n",
    "_Xdf['class']= _Xdf['class'].astype('int')\n",
    "_X   = X[:,:2].T\n",
    "df"
   ]
  },
  {
   "cell_type": "code",
   "execution_count": 527,
   "id": "rotary-albert",
   "metadata": {},
   "outputs": [
    {
     "data": {
      "text/plain": [
       "<matplotlib.legend.Legend at 0x7faf7f627df0>"
      ]
     },
     "execution_count": 527,
     "metadata": {},
     "output_type": "execute_result"
    },
    {
     "data": {
      "image/png": "[encoded data removed]",
      "text/plain": [
       "<Figure size 432x288 with 1 Axes>"
      ]
     },
     "metadata": {
      "needs_background": "light"
     },
     "output_type": "display_data"
    }
   ],
   "source": [
    "fig,ax = plt.subplots()\n",
    "colors = [\"#F44336\",\"#536DFE\",\"#4CAF50\",\"#FF9800\"]\n",
    "data   = [_w0,_w1,_w2,_w3]\n",
    "labels = [\"w0\",\"w1\",\"w2\",\"w3\"]\n",
    "for i,v in enumerate(data):\n",
    "    ax.scatter(v[:,0],v[:,1],s=140,color=colors[i],label=labels[i])\n",
    "ax.legend()\n",
    "# ax.scatter(_w0[:,0],_w0[:,1],color=colors[0])\n",
    "# ax.scatter(_w0[:,0],_w0[:,1],color=colors[0])"
   ]
  },
  {
   "cell_type": "markdown",
   "id": "affiliated-japan",
   "metadata": {},
   "source": [
    "# Practica #1:  Riesgo condicional"
   ]
  },
  {
   "cell_type": "markdown",
   "id": "infinite-glass",
   "metadata": {},
   "source": [
    "a) Implemente el c´alculo del vector de medias, matriz de covarianza y probabilidad a priori definidas en\n",
    "las Ecuaciones 32–34 de la clase AD-03. No se permite el uso de funciones predefinidas en bibliotecas o\n",
    "toolboxes."
   ]
  },
  {
   "cell_type": "markdown",
   "id": "decent-swift",
   "metadata": {},
   "source": [
    "## Vector de medias"
   ]
  },
  {
   "cell_type": "code",
   "execution_count": 528,
   "id": "experienced-march",
   "metadata": {},
   "outputs": [],
   "source": [
    "def mean(x):\n",
    "    return x.sum(axis=0)/x.shape[0]"
   ]
  },
  {
   "cell_type": "markdown",
   "id": "overall-murray",
   "metadata": {},
   "source": [
    "Vector de medias para la clase $\\omega_1$"
   ]
  },
  {
   "cell_type": "code",
   "execution_count": 529,
   "id": "balanced-installation",
   "metadata": {},
   "outputs": [
    {
     "data": {
      "text/plain": [
       "array([2.16, 2.49])"
      ]
     },
     "execution_count": 529,
     "metadata": {},
     "output_type": "execute_result"
    }
   ],
   "source": [
    "w0_mean = mean(_w0)\n",
    "w0_mean"
   ]
  },
  {
   "cell_type": "markdown",
   "id": "cognitive-lambda",
   "metadata": {},
   "source": [
    "Vector de medias para la clase $\\omega_2$"
   ]
  },
  {
   "cell_type": "code",
   "execution_count": 530,
   "id": "compatible-consistency",
   "metadata": {},
   "outputs": [
    {
     "data": {
      "text/plain": [
       "array([ 3.95, -0.84])"
      ]
     },
     "execution_count": 530,
     "metadata": {},
     "output_type": "execute_result"
    }
   ],
   "source": [
    "w1_mean = mean(_w1)\n",
    "w1_mean"
   ]
  },
  {
   "cell_type": "markdown",
   "id": "informative-uncertainty",
   "metadata": {},
   "source": [
    "Vector de medias para la clase $\\omega_3$"
   ]
  },
  {
   "cell_type": "code",
   "execution_count": 531,
   "id": "northern-bruce",
   "metadata": {},
   "outputs": [
    {
     "data": {
      "text/plain": [
       "array([-1.57,  3.53])"
      ]
     },
     "execution_count": 531,
     "metadata": {},
     "output_type": "execute_result"
    }
   ],
   "source": [
    "w2_mean = mean(_w2)\n",
    "w2_mean"
   ]
  },
  {
   "cell_type": "markdown",
   "id": "municipal-moral",
   "metadata": {},
   "source": [
    "Vector de medias para la clase $\\omega_4$"
   ]
  },
  {
   "cell_type": "code",
   "execution_count": 532,
   "id": "choice-juice",
   "metadata": {},
   "outputs": [
    {
     "data": {
      "text/plain": [
       "array([-5.99, -4.6 ])"
      ]
     },
     "execution_count": 532,
     "metadata": {},
     "output_type": "execute_result"
    }
   ],
   "source": [
    "w3_mean = mean(_w3)\n",
    "w3_mean"
   ]
  },
  {
   "cell_type": "code",
   "execution_count": 533,
   "id": "plastic-plumbing",
   "metadata": {},
   "outputs": [
    {
     "data": {
      "text/plain": [
       "[array([2.16, 2.49]),\n",
       " array([ 3.95, -0.84]),\n",
       " array([-1.57,  3.53]),\n",
       " array([-5.99, -4.6 ])]"
      ]
     },
     "execution_count": 533,
     "metadata": {},
     "output_type": "execute_result"
    }
   ],
   "source": [
    "uk = [w0_mean,w1_mean,w2_mean,w3_mean]\n",
    "uk"
   ]
  },
  {
   "cell_type": "markdown",
   "id": "friendly-angola",
   "metadata": {},
   "source": [
    "# Matriz de covarianza"
   ]
  },
  {
   "cell_type": "code",
   "execution_count": 534,
   "id": "choice-fighter",
   "metadata": {},
   "outputs": [],
   "source": [
    "def cov(x,uk):\n",
    "    ni = x.shape[0]\n",
    "    d  = x.shape[1]\n",
    "    matrix = np.zeros((d,d))\n",
    "    for i in range(d):\n",
    "        X  = x[:,i]\n",
    "        for j in range(d):\n",
    "            Y=x[:,j]\n",
    "            matrix[i][j]= ((X-uk[i])*(Y-uk[j])).sum()/(ni-1)\n",
    "    return matrix"
   ]
  },
  {
   "cell_type": "markdown",
   "id": "overhead-numbers",
   "metadata": {},
   "source": [
    "Matriz de covarianza para la clase $\\omega_1$"
   ]
  },
  {
   "cell_type": "code",
   "execution_count": 535,
   "id": "placed-novelty",
   "metadata": {},
   "outputs": [
    {
     "data": {
      "text/plain": [
       "array([[ 9.32488889, 10.11733333],\n",
       "       [10.11733333, 11.84988889]])"
      ]
     },
     "execution_count": 535,
     "metadata": {},
     "output_type": "execute_result"
    }
   ],
   "source": [
    "w0_cov = cov(_w0,w0_mean)\n",
    "w0_cov"
   ]
  },
  {
   "cell_type": "markdown",
   "id": "motivated-better",
   "metadata": {},
   "source": [
    "Vector de medias para la clase $\\omega_2$"
   ]
  },
  {
   "cell_type": "code",
   "execution_count": 536,
   "id": "exciting-segment",
   "metadata": {},
   "outputs": [
    {
     "data": {
      "text/plain": [
       "array([[ 8.36277778,  8.86777778],\n",
       "       [ 8.86777778, 13.02488889]])"
      ]
     },
     "execution_count": 536,
     "metadata": {},
     "output_type": "execute_result"
    }
   ],
   "source": [
    "w1_cov = cov(_w1,w1_mean)\n",
    "w1_cov"
   ]
  },
  {
   "cell_type": "markdown",
   "id": "worldwide-infrastructure",
   "metadata": {},
   "source": [
    "Vector de medias para la clase $\\omega_3$"
   ]
  },
  {
   "cell_type": "code",
   "execution_count": 537,
   "id": "impressive-closing",
   "metadata": {},
   "outputs": [
    {
     "data": {
      "text/plain": [
       "array([[7.63344444, 2.99344444],\n",
       "       [2.99344444, 9.78233333]])"
      ]
     },
     "execution_count": 537,
     "metadata": {},
     "output_type": "execute_result"
    }
   ],
   "source": [
    "w2_cov = cov(_w2,w2_mean)\n",
    "w2_cov"
   ]
  },
  {
   "cell_type": "markdown",
   "id": "surgical-confirmation",
   "metadata": {},
   "source": [
    "Vector de medias para la clase $\\omega_4$"
   ]
  },
  {
   "cell_type": "code",
   "execution_count": 538,
   "id": "synthetic-jacket",
   "metadata": {},
   "outputs": [
    {
     "data": {
      "text/plain": [
       "array([[ 8.62544444, -2.64444444],\n",
       "       [-2.64444444, 27.64444444]])"
      ]
     },
     "execution_count": 538,
     "metadata": {},
     "output_type": "execute_result"
    }
   ],
   "source": [
    "w3_cov = cov(_w3,w3_mean)\n",
    "w3_cov"
   ]
  },
  {
   "cell_type": "code",
   "execution_count": 539,
   "id": "shaped-blond",
   "metadata": {},
   "outputs": [
    {
     "data": {
      "text/plain": [
       "[array([[ 9.32488889, 10.11733333],\n",
       "        [10.11733333, 11.84988889]]),\n",
       " array([[ 8.36277778,  8.86777778],\n",
       "        [ 8.86777778, 13.02488889]]),\n",
       " array([[7.63344444, 2.99344444],\n",
       "        [2.99344444, 9.78233333]]),\n",
       " array([[ 8.62544444, -2.64444444],\n",
       "        [-2.64444444, 27.64444444]])]"
      ]
     },
     "execution_count": 539,
     "metadata": {},
     "output_type": "execute_result"
    }
   ],
   "source": [
    "covX = [w0_cov,w1_cov,w2_cov,w3_cov]\n",
    "covX"
   ]
  },
  {
   "cell_type": "markdown",
   "id": "contained-dairy",
   "metadata": {},
   "source": [
    "b) Use las funciones en el inciso (a) para calcular las probabilidades posteriores de cada muestra en la\n",
    "Tabla 1, implementado la Ecuaci´on 1 de la clase AD-03. La funci´on de verosimilitud est´a dada por la\n",
    "funci´on de densidad Gaussiana multivariante (Ecuaci´on 10 de la clase AD-03)."
   ]
  },
  {
   "cell_type": "markdown",
   "id": "configured-worse",
   "metadata": {},
   "source": [
    "# Probabilidad a priori"
   ]
  },
  {
   "cell_type": "code",
   "execution_count": 540,
   "id": "practical-opera",
   "metadata": {},
   "outputs": [],
   "source": [
    "total = sum(list(map(lambda x:x.shape[0],data)))"
   ]
  },
  {
   "cell_type": "markdown",
   "id": "unknown-language",
   "metadata": {},
   "source": [
    "Probabilidad a priori de la clase $\\omega_1$"
   ]
  },
  {
   "cell_type": "code",
   "execution_count": 541,
   "id": "twelve-logging",
   "metadata": {},
   "outputs": [
    {
     "data": {
      "text/plain": [
       "0.25"
      ]
     },
     "execution_count": 541,
     "metadata": {},
     "output_type": "execute_result"
    }
   ],
   "source": [
    "Pw0 = _w0.shape[0]/total\n",
    "Pw0"
   ]
  },
  {
   "cell_type": "markdown",
   "id": "patient-connecticut",
   "metadata": {},
   "source": [
    "Probabilidad a priori de la clase $\\omega_2$"
   ]
  },
  {
   "cell_type": "code",
   "execution_count": 542,
   "id": "organized-plumbing",
   "metadata": {},
   "outputs": [
    {
     "data": {
      "text/plain": [
       "0.25"
      ]
     },
     "execution_count": 542,
     "metadata": {},
     "output_type": "execute_result"
    }
   ],
   "source": [
    "Pw1 = _w1.shape[0]/total\n",
    "Pw1"
   ]
  },
  {
   "cell_type": "markdown",
   "id": "modular-springfield",
   "metadata": {},
   "source": [
    "Probabilidad a priori de la clase $\\omega_3$"
   ]
  },
  {
   "cell_type": "code",
   "execution_count": 543,
   "id": "regional-uruguay",
   "metadata": {},
   "outputs": [
    {
     "data": {
      "text/plain": [
       "0.25"
      ]
     },
     "execution_count": 543,
     "metadata": {},
     "output_type": "execute_result"
    }
   ],
   "source": [
    "Pw2 = _w2.shape[0]/total\n",
    "Pw2"
   ]
  },
  {
   "cell_type": "markdown",
   "id": "powerful-upset",
   "metadata": {},
   "source": [
    "Probabilidad a priori de la clase $\\omega_4$"
   ]
  },
  {
   "cell_type": "code",
   "execution_count": 544,
   "id": "flush-afternoon",
   "metadata": {},
   "outputs": [
    {
     "data": {
      "text/plain": [
       "0.25"
      ]
     },
     "execution_count": 544,
     "metadata": {},
     "output_type": "execute_result"
    }
   ],
   "source": [
    "Pw3 = _w3.shape[0]/total\n",
    "Pw3"
   ]
  },
  {
   "cell_type": "code",
   "execution_count": 545,
   "id": "peaceful-african",
   "metadata": {},
   "outputs": [
    {
     "data": {
      "text/plain": [
       "[0.25, 0.25, 0.25, 0.25]"
      ]
     },
     "execution_count": 545,
     "metadata": {},
     "output_type": "execute_result"
    }
   ],
   "source": [
    "Pwi = [Pw0,Pw1,Pw2,Pw3]\n",
    "Pwi"
   ]
  },
  {
   "cell_type": "markdown",
   "id": "earlier-paste",
   "metadata": {},
   "source": [
    "# Funcion de densidad"
   ]
  },
  {
   "cell_type": "code",
   "execution_count": 546,
   "id": "southwest-swimming",
   "metadata": {},
   "outputs": [],
   "source": [
    "def px(x,w_cov,w_mean):\n",
    "    d = x.shape[1]\n",
    "    n = x.shape[0]\n",
    "    result = []\n",
    "    deter =np.linalg.det(w_cov)\n",
    "    denominator = 1/(np.power(2*np.pi,d/2) * np.power(deter,0.5))\n",
    "    sigmaIv     = np.linalg.inv(w_cov)\n",
    "    for i in range(n):\n",
    "        xMinusMean  = (x[i,:]-w_mean)\n",
    "        xMinusMeanT = -0.5*xMinusMean.T \n",
    "        exp         = np.exp(xMinusMeanT@sigmaIv@xMinusMean)\n",
    "        result.append(denominator*exp)\n",
    "    return np.array(result)"
   ]
  },
  {
   "cell_type": "markdown",
   "id": "lightweight-socket",
   "metadata": {},
   "source": [
    "Probabilidad condicional $P(x|\\omega_1)$"
   ]
  },
  {
   "cell_type": "code",
   "execution_count": 547,
   "id": "structured-gilbert",
   "metadata": {},
   "outputs": [
    {
     "data": {
      "text/plain": [
       "array([0.02951557, 0.01586343, 0.00892033, 0.05120852, 0.00720076,\n",
       "       0.01491139, 0.02879169, 0.05106233, 0.02442769, 0.04370393])"
      ]
     },
     "execution_count": 547,
     "metadata": {},
     "output_type": "execute_result"
    }
   ],
   "source": [
    "w0_px = px(_w0,w0_cov,w0_mean)\n",
    "w0_px"
   ]
  },
  {
   "cell_type": "markdown",
   "id": "damaged-truck",
   "metadata": {},
   "source": [
    "Probabilidad condicional $P(x|\\omega_2)$"
   ]
  },
  {
   "cell_type": "code",
   "execution_count": 548,
   "id": "comparative-poster",
   "metadata": {},
   "outputs": [
    {
     "data": {
      "text/plain": [
       "array([0.01072286, 0.0026566 , 0.02814397, 0.02077951, 0.01236845,\n",
       "       0.0192866 , 0.01823632, 0.00376513, 0.00881228, 0.02100161])"
      ]
     },
     "execution_count": 548,
     "metadata": {},
     "output_type": "execute_result"
    }
   ],
   "source": [
    "w1_px = px(_w1,w1_cov,w1_mean)\n",
    "w1_px"
   ]
  },
  {
   "cell_type": "markdown",
   "id": "anticipated-basket",
   "metadata": {},
   "source": [
    "Probabilidad condicional $P(x|\\omega_3)$"
   ]
  },
  {
   "cell_type": "code",
   "execution_count": 549,
   "id": "demonstrated-virgin",
   "metadata": {},
   "outputs": [
    {
     "data": {
      "text/plain": [
       "array([0.00232212, 0.00492011, 0.00294479, 0.0158987 , 0.01322619,\n",
       "       0.01953528, 0.00809561, 0.01236411, 0.00853124, 0.00889954])"
      ]
     },
     "execution_count": 549,
     "metadata": {},
     "output_type": "execute_result"
    }
   ],
   "source": [
    "w2_px = px(_w2,w2_cov,w2_mean)\n",
    "w2_px"
   ]
  },
  {
   "cell_type": "markdown",
   "id": "chemical-scientist",
   "metadata": {},
   "source": [
    "Probabilidad condicional $P(x|\\omega_4)$"
   ]
  },
  {
   "cell_type": "code",
   "execution_count": 550,
   "id": "japanese-religion",
   "metadata": {},
   "outputs": [
    {
     "data": {
      "text/plain": [
       "array([0.0036734 , 0.00481752, 0.00040082, 0.0072072 , 0.01013247,\n",
       "       0.00155581, 0.00952234, 0.00600745, 0.00561128, 0.00748969])"
      ]
     },
     "execution_count": 550,
     "metadata": {},
     "output_type": "execute_result"
    }
   ],
   "source": [
    "w3_px = px(_w3,w3_cov,w3_mean)\n",
    "w3_px"
   ]
  },
  {
   "cell_type": "code",
   "execution_count": 551,
   "id": "composed-concord",
   "metadata": {},
   "outputs": [],
   "source": [
    "PxWi = [w0_px,w1_px,w2_px,w3_px]"
   ]
  },
  {
   "cell_type": "code",
   "execution_count": 552,
   "id": "virgin-refund",
   "metadata": {},
   "outputs": [
    {
     "name": "stdout",
     "output_type": "stream",
     "text": [
      "w1 [0.638396   0.5613851  0.22074619 0.53850464 0.16774087 0.26969871\n",
      " 0.44537481 0.69758221 0.51554256 0.5389242 ] \n",
      "\n",
      "w2 [0.23192612 0.09401342 0.69646203 0.21851563 0.28812161 0.34883189\n",
      " 0.28209532 0.05143688 0.1859818  0.25897614] \n",
      "\n",
      "w3 [0.05022537 0.174116   0.0728729  0.16718946 0.30810267 0.35332982\n",
      " 0.12522998 0.16891086 0.18005043 0.10974243] \n",
      "\n",
      "w4 [0.0794525  0.17048548 0.00991888 0.07579028 0.23603484 0.02813958\n",
      " 0.14729989 0.08207006 0.11842522 0.09235724] \n",
      "\n"
     ]
    }
   ],
   "source": [
    "def gix(i):\n",
    "    sum_gauss = (w0_px*Pw0)+(w1_px*Pw1)+(w2_px*Pw2)+(w3_px*Pw3)\n",
    "    numerator   = PxWi[i]*Pwi[i]\n",
    "    return  numerator/sum_gauss\n",
    "\n",
    "\n",
    "for i in range(c):\n",
    "    print(\"w{}\".format(i+1),gix(i),\"\\n\")"
   ]
  },
  {
   "cell_type": "markdown",
   "id": "solved-mission",
   "metadata": {},
   "source": [
    "c) Calcule el riesgo condicional de las muestras de entrenamiento (Ecuaci´on 19 de la clase AD-02)."
   ]
  },
  {
   "cell_type": "markdown",
   "id": "extended-designation",
   "metadata": {},
   "source": [
    "#  Riesgo condicional"
   ]
  },
  {
   "cell_type": "code",
   "execution_count": 553,
   "id": "aggressive-spelling",
   "metadata": {},
   "outputs": [
    {
     "data": {
      "text/plain": [
       "array([1.915188  , 1.68415529, 0.66223857, 1.61551391, 0.50322262,\n",
       "       0.80909612, 1.33612444, 2.09274662, 1.54662768, 1.61677259])"
      ]
     },
     "execution_count": 553,
     "metadata": {},
     "output_type": "execute_result"
    }
   ],
   "source": [
    "def fps(i,j):\n",
    "    return 0 if(i==j) else 1\n",
    "\n",
    "def rc(i):\n",
    "    result =[]\n",
    "    for j in range(c):\n",
    "        fpsRes = fps(i,j)\n",
    "        result.append(fpsRes*gix(i))\n",
    "    return sum(result)\n",
    "rc(0)"
   ]
  },
  {
   "cell_type": "markdown",
   "id": "signed-ceiling",
   "metadata": {},
   "source": [
    "# Práctica #2"
   ]
  },
  {
   "cell_type": "markdown",
   "id": "talented-worker",
   "metadata": {},
   "source": [
    "a) Use las funciones en el inciso (a) de la Pr´actica #1 para entrenar un clasificador basado en funciones\n",
    "discriminantes Gaussianas cuadr´aticas (Ecuaci´on 26 de la clase AD-03)"
   ]
  },
  {
   "cell_type": "code",
   "execution_count": 554,
   "id": "speaking-carolina",
   "metadata": {},
   "outputs": [
    {
     "name": "stdout",
     "output_type": "stream",
     "text": [
      "1\n",
      "3\n",
      "1\n",
      "1\n",
      "1\n",
      "1\n",
      "1\n",
      "1\n",
      "1\n",
      "1\n"
     ]
    }
   ],
   "source": [
    "def _gix(xi,covs,uk,pw):\n",
    "    result = []\n",
    "    for i in range(c):\n",
    "        w_cov  = covs[i] \n",
    "        ui     = uk[i]\n",
    "        pwi    = pw[i] \n",
    "        sigmaIv = np.linalg.inv(w_cov)\n",
    "        Wi      = -0.5 * sigmaIv\n",
    "        wi      = sigmaIv@ui\n",
    "        w0i     = -0.5*ui.T@sigmaIv@ui-0.5*np.log(np.linalg.det(w_cov))+np.log(pwi)\n",
    "        xiT  = xi.T\n",
    "        res = xiT@Wi@xi + wi.T@xi+w0i\n",
    "        result.append(res)\n",
    "        \n",
    "    return np.argmax(result)\n",
    "\n",
    "for i in range(_w0.shape[0]):\n",
    "    w0_res = _gix(_w1[i],covX,uk,Pwi)\n",
    "    print(w0_res)\n"
   ]
  },
  {
   "cell_type": "code",
   "execution_count": null,
   "id": "mathematical-linux",
   "metadata": {},
   "outputs": [],
   "source": [
    "fig,ax = plt.subplots()\n",
    "ax.set_xticks(np.arange(-10,10,1))\n",
    "ax.set_yticks(np.arange(-10,10,1))\n",
    "colors = [\"#F44336\",\"#536DFE\",\"#4CAF50\",\"#FF9800\"]\n",
    "# colors = [\"#000\",\"#000\",\"#000\",\"#000\"]\n",
    "# data   = [_w0,_w1,_w2,_w3]\n",
    "data   = [_w0,_w1,_w2,_w3]\n",
    "labels = [\"w0\",\"w1\",\"w2\",\"w3\"]\n",
    "plot_step =.1\n",
    "xMin =-10\n",
    "xMax = 10\n",
    "# yMin = xMin\n",
    "# yMax = 10 \n",
    "x     = np.arange(xMin, xMax , plot_step)\n",
    "y     = np.arange(xMin,xMax,plot_step)\n",
    "xx,yy = np.meshgrid(x,y)\n",
    "# print(xx.shape)\n",
    "# ax.scatter(xx[18][1],yy[18][1])\n",
    "# _xx = xx.reshape(200,2)\n",
    "for i in range(xx.shape[0]):\n",
    "    for j in range(xx.shape[1]):\n",
    "        x1    = xx[i][j]\n",
    "        x2    = yy[i][j]\n",
    "        xi    = np.array([x1,x2])\n",
    "        color = _gix(xi,covX,uk,Pwi)\n",
    "        ax.scatter(x1,x2,color=colors[color])\n",
    "#         print(w0_res)\n",
    "#     ax.scatter(_xx[i][0],_xx[i][1],color=\"red\")\n",
    "#     print(w0_res)"
   ]
  },
  {
   "cell_type": "markdown",
   "id": "colored-polls",
   "metadata": {},
   "source": [
    "# Practica #3"
   ]
  },
  {
   "cell_type": "markdown",
   "id": "oriented-bernard",
   "metadata": {},
   "source": [
    "a) A partir de los datos en la Tabla 1, use las funciones en el inciso (a) de la Practica #1 para entrenar un clasificador de mınima distancia Euclidiana y un clasificador de mınima distancia Mahalanobis\n",
    "(Ecuaciones 18 y 23 de la clase AD-03)."
   ]
  },
  {
   "cell_type": "code",
   "execution_count": 556,
   "id": "catholic-apparel",
   "metadata": {},
   "outputs": [],
   "source": [
    "def cMinEucli(x):\n",
    "    xMean      = mean(x)\n",
    "    xMinusMean = x-xMean\n",
    "    result = []\n",
    "    for i in range(x.shape[0]):\n",
    "        xMinusMean = x[i]-xMean\n",
    "        res =np.sqrt(xMinusMean.T@xMinusMean)\n",
    "        result.append(res)\n",
    "    return result\n",
    "def cMinMaha(x):\n",
    "    xMean      = mean(x)\n",
    "    xCov       = cov(x,xMean)\n",
    "    sigmaInv   = np.linalg.inv(xCov)\n",
    "    result = []\n",
    "    for i in range(x.shape[0]):\n",
    "        xMinusMean = x[i]-xMean\n",
    "        res = np.sqrt(xMinusMean.T@sigmaInv@xMinusMean)\n",
    "        result.append(res)\n",
    "    return result"
   ]
  },
  {
   "cell_type": "markdown",
   "id": "missing-honor",
   "metadata": {},
   "source": [
    "b) Clasifique los siguientes patrones de prueba: $\\mathbf{x_1} = [-1.7,-2.6]^T$, $\\mathbf{x_2}=[0.3,-7.6]^T,\\mathbf{x_3}=[-7.3,5.0]^T y \\quad \\mathbf{x_4}=[5.6,2.8]^T$, usando los dos clasificadores implementados en el inciso anterior, as´ı como el clasificador\n",
    "cuadratico implementado en la Practica #2."
   ]
  }
 ],
 "metadata": {
  "kernelspec": {
   "display_name": "Python 3",
   "language": "python",
   "name": "python3"
  },
  "language_info": {
   "codemirror_mode": {
    "name": "ipython",
    "version": 3
   },
   "file_extension": ".py",
   "mimetype": "text/x-python",
   "name": "python",
   "nbconvert_exporter": "python",
   "pygments_lexer": "ipython3",
   "version": "3.8.5"
  }
 },
 "nbformat": 4,
 "nbformat_minor": 5
}
